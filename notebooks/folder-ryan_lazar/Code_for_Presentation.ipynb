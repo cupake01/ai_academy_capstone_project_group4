{
 "cells": [
  {
   "cell_type": "code",
   "execution_count": 15,
   "metadata": {},
   "outputs": [],
   "source": [
    "import pandas as pd\n",
    "import numpy as np\n",
    "import matplotlib.pyplot as plt\n",
    "%matplotlib inline\n",
    "import seaborn as sns\n",
    "import sqlite3"
   ]
  },
  {
   "cell_type": "code",
   "execution_count": 16,
   "metadata": {},
   "outputs": [],
   "source": [
    "movie_gross_df = pd.read_csv('../../data/bom.movie_gross.csv.gz')\n",
    "#grossdf.head(5)"
   ]
  },
  {
   "cell_type": "code",
   "execution_count": 17,
   "metadata": {},
   "outputs": [],
   "source": [
    "movie_budgets_df = pd.read_csv('../../data/tn.movie_budgets.csv.gz')\n",
    "#budgetdf.head(5)"
   ]
  },
  {
   "cell_type": "markdown",
   "metadata": {},
   "source": [
    "# Data Organizing\n",
    "Change the column \"title in the bom.movie dataframe. This will then allow us to merge both dataframes on that column."
   ]
  },
  {
   "cell_type": "code",
   "execution_count": 18,
   "metadata": {},
   "outputs": [],
   "source": [
    "# Rename the title column to movie for merge with the movie_budget dataframe\n",
    "movie_gross_df = movie_gross_df.rename(columns={'title': 'movie'})"
   ]
  },
  {
   "cell_type": "markdown",
   "metadata": {},
   "source": [
    "# Data Merging\n",
    "After the column name was changed we can now merge and begin our data exploration."
   ]
  },
  {
   "cell_type": "code",
   "execution_count": 19,
   "metadata": {},
   "outputs": [],
   "source": [
    "#connect moviegross and moviebudgets on movie\n",
    "gross_budgets = pd.merge(movie_gross_df, movie_budgets_df, on= 'movie')"
   ]
  },
  {
   "cell_type": "markdown",
   "metadata": {},
   "source": [
    "# Data Formatting\n",
    "Before we can work with the numbers in the columns we have to remove the $ and any spaces that may exist."
   ]
  },
  {
   "cell_type": "code",
   "execution_count": 20,
   "metadata": {},
   "outputs": [],
   "source": [
    "# Have to reformat the worldwide_gross and production_budget columns to remove $ and space\n",
    "gross_budgets['worldwide_gross'] = gross_budgets['worldwide_gross'].replace('[\\$,]', '', regex=True).astype(int)\n",
    "gross_budgets['production_budget'] = gross_budgets['production_budget'].replace('[\\$,]', '', regex=True).astype(int)"
   ]
  },
  {
   "cell_type": "markdown",
   "metadata": {},
   "source": [
    "# Data Calculation\n",
    "Now we create a profit column in the dataframe and we calculate that by subtracting the \"production_budget\" column from the \"worldwide_gross\" column. It is a large number so we then divide by 1,000,000 to change it out of scientific notation."
   ]
  },
  {
   "cell_type": "code",
   "execution_count": 21,
   "metadata": {},
   "outputs": [],
   "source": [
    "# Create a profit column by subtracting production_budget from worldwide_gross\n",
    "gross_budgets['profit'] = (gross_budgets['worldwide_gross'] - gross_budgets['production_budget'])/1000000"
   ]
  },
  {
   "cell_type": "markdown",
   "metadata": {},
   "source": [
    "# First Visualization\n",
    "This graph shows the top 10 studios that have the highest profit on average. It was created by combing the two dataframes movie_gross_df and  movie_budgets_df, calculating profit, and then grouping by the studio. The values are the average profit (mean)."
   ]
  },
  {
   "cell_type": "code",
   "execution_count": 32,
   "metadata": {},
   "outputs": [
    {
     "data": {
      "text/plain": [
       "Text(0.5, 1.0, 'Top 10 Studios by Average Profit')"
      ]
     },
     "execution_count": 32,
     "metadata": {},
     "output_type": "execute_result"
    },
    {
     "data": {
      "image/png": "[encoded data removed]",
      "text/plain": [
       "<Figure size 720x432 with 1 Axes>"
      ]
     },
     "metadata": {
      "needs_background": "light"
     },
     "output_type": "display_data"
    }
   ],
   "source": [
    "# Plot top 10 - Cleaned up\n",
    "plt.figure(figsize=(10, 6))\n",
    "ax = sns.barplot(x='studio', y='profit', data=gross_budgets.groupby('studio')['profit'].mean().nlargest(10).reset_index(), color=\"#86BC24\")\n",
    "plt.ylabel('Profit in millions $')\n",
    "plt.xlabel('Studio')\n",
    "plt.title('Top 10 Studios by Average Profit')"
   ]
  }
 ],
 "metadata": {
  "kernelspec": {
   "display_name": "Python (learn-env)",
   "language": "python",
   "name": "learn-env"
  },
  "language_info": {
   "codemirror_mode": {
    "name": "ipython",
    "version": 3
   },
   "file_extension": ".py",
   "mimetype": "text/x-python",
   "name": "python",
   "nbconvert_exporter": "python",
   "pygments_lexer": "ipython3",
   "version": "3.8.5"
  }
 },
 "nbformat": 4,
 "nbformat_minor": 4
}
