{
 "cells": [
  {
   "cell_type": "markdown",
   "metadata": {},
   "source": [
    "# Ai Academy Capstone Group 4\n",
    "Presented by Brian Gorbea, Kelvin Cupay, Robert Cofer, Rob Masters, Ryan Lazar\n",
    "\n",
    "## Overview\n",
    "Using Explanatory data analysis(EDA) and statistical methods we are going to advice Computing Vision how the best way to jump start their new movie studio, called 'Computing Vision Entertainment'. We used sqlite3 in pandas to query the datasets given and hypothesis testing to evaluate our findings. Essentially, we are generating insights for their business and stake holders by making a two part suggestion, one is the early stage of the movie studio and scalability after several years.\n",
    "\n"
   ]
  },
  {
   "cell_type": "markdown",
   "metadata": {},
   "source": [
    "## Business Understanding: \n",
    "\n",
    "Goals: The business question we are going to answer\n",
    "Assumption : The parent company 'Computing Vision' does not have much backgrounk in creating movies.\n",
    "1. Best investment in order to quick start the revenue of new movie studio 'Computing Vidion Entertainment'\n",
    "2. Best investment in order to scale the business and future ventures in the business industry\n",
    "\n",
    "This notebook will drive deeper into how we utilize the data sets to create meaningful visualizations and aggregrations in order to achieve our goals listed above.\n",
    "\n",
    "We will also create hypothesis test to evaluate our findings and reccomendations which are based in scietific & mathematical reasonings. The reccomendation for the *head of Computing Vision's new movie studio* and help him decide which films to create the best film in terms of profits and appreciation.\n",
    "\n",
    "### Real World Application(real-world problem): Today less people are going to the theatres and watching movies. Maybe Hollywood has gone stale and have stagnanted with their ways of creating movies, maybe through insights of what is most profitable for a new and small scale movie studio someone can use this information to create and start their new movie business.REVISIT)\n",
    "\n",
    "## Stakeholders:(REVISIT CHECK WITH ROB)\n",
    "- `Investors`: Can identify by profits if rate on investment(ROI) is significant for them to invest in Computing Vision Entertainment\n",
    "- `Computing Vision(Parent Company)`: Is it worth it to make \n",
    "- `Critics`: Is this new movie studio just for profits or they actually want to create movies that are well liked\n",
    "- `Fans`: Do we like the movies from this mobie studio\n",
    "- `Potential future fans`: Repuation of this new in coming movie studio\n",
    "- `Competing fans`: How well will this Computing Vision Entertainment handle the competing movie studios"
   ]
  },
  {
   "cell_type": "markdown",
   "metadata": {},
   "source": [
    "## Data Undertanding: \n",
    "The data set comes from several sources where some are compressed into CSV(comma-separated values) or TSV(tab-separated values). The data sets listed below are from these respectable sources: [Box Office Mojo](https://www.boxofficemojo.com/), [IMDB](https://www.imdb.com/), [Rotten Tomatoes](https://www.rottentomatoes.com/), [The MovieDB](https://www.themoviedb.org/), [The Numbers](https://www.the-numbers.com/).\n",
    "\n",
    "Here is a list of the data sets use:\n",
    "- `bom.movie_gross.csv.gz`: each record is a movie with a title(object), domestic_gross(object), foreign_gross(float), and year released(int)\n",
    "- `im.db.zip`: \n",
    "- `rt.movie_info.tsv.gz`:\n",
    "- `rt.reviews.tsv.gz`:\n",
    "- `tmdb.movies.csv.gz`:\n",
    "- `tn.movie_budgets.csv.gz:`\n"
   ]
  },
  {
   "cell_type": "markdown",
   "metadata": {},
   "source": [
    "# this should be in data prep?\n",
    "Task: exploring what types of films are current doing the best at the box office using different samples of available data(we are looking at profitability) : $defined$ $as$ global gross revenue() - budget(cost).\n",
    "$create profit$\n",
    " gross_budgets['profit'] = gross_budgets['worldwide_gross'](revenue made international) - gross_budgets['production_budget'](cost)"
   ]
  },
  {
   "cell_type": "markdown",
   "metadata": {},
   "source": [
    "# Middle : Methodology\n",
    "* Data Understanding\n",
    "    \n",
    "* Data Analysis\n",
    "    * 3 visualizations\n",
    "* Statistical Inference\n",
    "\n",
    "* Rationale\n",
    "    * For example, why are you using hypothesis testing rather than just a graph?\n",
    "    * What about the problem or data is suitable for this form of analysis?\n",
    "    * For a data science audience, this includes your reasoning for the changes you applied and choices you made while building confidence intervals and/or hypothesis tests.\n",
    " "
   ]
  },
  {
   "cell_type": "markdown",
   "metadata": {},
   "source": [
    "# End\n",
    "* Recommendations\n",
    "    * 3 reccs\n",
    "* Next Steps\n",
    "* Thank You\n",
    "* This slide should include a prompt for questions as well as your contact information (name and LinkedIn profile)"
   ]
  },
  {
   "cell_type": "markdown",
   "metadata": {},
   "source": [
    "# End of Note book"
   ]
  },
  {
   "cell_type": "markdown",
   "metadata": {},
   "source": [
    "# Grading\n",
    "* Attention to Detail (20%)\n",
    "* Data Communication (20%)\n",
    "* Authoring Jupyter Notebooks (20%)\n",
    "* Data Manipulation and Analysis with pandas (20%)\n",
    "* Statistical Communication (20%)"
   ]
  },
  {
   "cell_type": "markdown",
   "metadata": {},
   "source": [
    "# This is for presentation\n",
    "## Who will be receiving your presentation, and what is their role in the company?\n",
    "* stake holders and investors of new movie Film Studio(top quality)\n",
    "\n",
    "## What is their background: technical or non-technical?\n",
    "non-technical, but they are sharks of Hollywood\n",
    "\n",
    "## How will your presentation affect their work or a decision they need to make?\n",
    "* Weather they will invest in the new company\n",
    "\n",
    "## What is their attention span?\n",
    "They have good attention span and good atttention to detail\n",
    "\n",
    "## What is the goal of the presentation?\n",
    "The goal of this presentation is for them to invest into Top Quality Entertainment\n"
   ]
  },
  {
   "cell_type": "markdown",
   "metadata": {},
   "source": [
    "# from ROB\n",
    "\n",
    "I think the takeways so far are:\n",
    "\n",
    "- Action and kids movies are the top profit sources for major movies\n",
    "- horror is the best route for under 10 million for a production budget\n",
    "- It is important to pick the right studio as in the hypothesis testing each of the top 3 occurring were significant with profit\n",
    "- Sci-Fi, adventure animation are the top profiting genres (assuming correct with data limitations)\n",
    "- Under 10 mil budgets can expect a profit between 15-26 million (95% confidence)\n",
    "- Over 10 mil budgets can expect profits between 116-143 million (95% confidence)"
   ]
  },
  {
   "cell_type": "code",
   "execution_count": null,
   "metadata": {},
   "outputs": [],
   "source": []
  }
 ],
 "metadata": {
  "kernelspec": {
   "display_name": "Python (learn-env)",
   "language": "python",
   "name": "learn-env"
  },
  "language_info": {
   "codemirror_mode": {
    "name": "ipython",
    "version": 3
   },
   "file_extension": ".py",
   "mimetype": "text/x-python",
   "name": "python",
   "nbconvert_exporter": "python",
   "pygments_lexer": "ipython3",
   "version": "3.8.5"
  }
 },
 "nbformat": 4,
 "nbformat_minor": 4
}
