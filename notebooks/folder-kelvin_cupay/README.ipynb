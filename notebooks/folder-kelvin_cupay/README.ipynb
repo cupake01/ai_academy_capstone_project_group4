{
 "cells": [
  {
   "cell_type": "markdown",
   "metadata": {},
   "source": [
    "# <span style=\"color:green\"> Capstone Project README Group 4</span>\n",
    "### Members: Brian Gorbea, Kelvin Cupay, Rob Masters, Robert Cofer, Ryan Lazar\n"
   ]
  },
  {
   "cell_type": "markdown",
   "metadata": {},
   "source": [
    "# Overview\n",
    "Using Explanatory data analysis(EDA) and statistical methods we are going to advice Computing Vision how the best way to jump start their new movie studio, called 'Computing Vision Entertainment'. We used sqlite3 in pandas to query the datasets given and hypothesis testing to evaluate our findings. Essentially, we are generating insights for their business and stake holders by making a two part suggestion, one is the early stage of the movie studio and scalability after several years."
   ]
  },
  {
   "cell_type": "markdown",
   "metadata": {},
   "source": [
    "## Business Understanding\n",
    "\n",
    "#### Stakeholder \n",
    "#### Key business questions"
   ]
  },
  {
   "cell_type": "markdown",
   "metadata": {},
   "source": [
    "## Data Understanding and Analysis\n",
    "####  Description of data: \n",
    "Here is a list of the data sets use:\n",
    "- `bom.movie_gross.csv.gz`: each record is a movie with a title(object), domestic_gross(object), foreign_gross(float), and year released(int)\n",
    "- `im.db.zip`: \n",
    "- `rt.movie_info.tsv.gz`:\n",
    "- `rt.reviews.tsv.gz`:\n",
    "- `tmdb.movies.csv.gz`:\n",
    "- `tn.movie_budgets.csv.gz:`\n",
    "\n",
    "#### Source of data\n",
    "The data set comes from several sources where some are compressed into CSV(comma-separated values) or TSV(tab-separated values). The data sets listed below are from these respectable sources:\n",
    "- [Box Office Mojo](https://www.boxofficemojo.com/)\n",
    "- [IMDB](https://www.imdb.com/)\n",
    "- [Rotten Tomatoes](https://www.rottentomatoes.com/)\n",
    "- [The MovieDB](https://www.themoviedb.org/)\n",
    "- [The Numbers](https://www.the-numbers.com/)\n",
    "\n",
    "\n",
    "#### Three visualizations (the same visualizations presented in the slides and notebook)\n",
    "\n",
    "## Statistical Communication\n",
    "#### Results of statistical inference:\n",
    "\n",
    "#### Interpretation of these results in the context of the problem:\n",
    "\n",
    "## Conclusion\n",
    "#### Summary of conclusions including three relevant findings"
   ]
  },
  {
   "cell_type": "code",
   "execution_count": null,
   "metadata": {},
   "outputs": [],
   "source": []
  }
 ],
 "metadata": {
  "kernelspec": {
   "display_name": "Python (learn-env)",
   "language": "python",
   "name": "learn-env"
  },
  "language_info": {
   "codemirror_mode": {
    "name": "ipython",
    "version": 3
   },
   "file_extension": ".py",
   "mimetype": "text/x-python",
   "name": "python",
   "nbconvert_exporter": "python",
   "pygments_lexer": "ipython3",
   "version": "3.8.5"
  }
 },
 "nbformat": 4,
 "nbformat_minor": 4
}
