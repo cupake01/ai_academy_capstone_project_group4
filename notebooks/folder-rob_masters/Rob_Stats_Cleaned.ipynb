{
 "cells": [
  {
   "cell_type": "code",
   "execution_count": 1,
   "metadata": {},
   "outputs": [],
   "source": [
    "import pandas as pd\n",
    "import numpy as np\n",
    "import scipy as sp\n",
    "import pandas as pd\n",
    "import scipy.stats as stats\n",
    "import seaborn as sns\n",
    "import matplotlib.pyplot as plt\n",
    "import math"
   ]
  },
  {
   "cell_type": "code",
   "execution_count": 2,
   "metadata": {},
   "outputs": [],
   "source": [
    "#add data\n",
    "movie_gross_df = pd.read_csv('../../data/bom.movie_gross.csv.gz')\n",
    "movie_info_df = pd.read_csv('../../data/rt.movie_info.tsv.gz', sep='\\t')\n",
    "reviews_df = pd.read_csv('../../data/rt.reviews.tsv.gz', delimiter='\\t', encoding='latin1')\n",
    "movies_df = pd.read_csv('../../data/tmdb.movies.csv.gz', encoding='latin1')\n",
    "movie_budgets_df = pd.read_csv('../../data/tn.movie_budgets.csv.gz', encoding='latin1')"
   ]
  },
  {
   "cell_type": "code",
   "execution_count": 3,
   "metadata": {},
   "outputs": [],
   "source": [
    "#rename dfs to connect on the unique ID movie\n",
    "movies_df = movies_df.rename(columns={'original_title': 'movie'})\n",
    "movie_gross_df = movie_gross_df.rename(columns={'title': 'movie'})"
   ]
  },
  {
   "cell_type": "code",
   "execution_count": 4,
   "metadata": {},
   "outputs": [],
   "source": [
    "#connect moviegross and moviebudgets on movie\n",
    "gross_budgets = pd.merge(movie_gross_df, movie_budgets_df, on=['movie'])"
   ]
  },
  {
   "cell_type": "code",
   "execution_count": 5,
   "metadata": {},
   "outputs": [],
   "source": [
    "#cleaned for profit and hypothesis testing\n",
    "\n",
    "# Clean the worldwide_gross column\n",
    "gross_budgets['worldwide_gross'] = gross_budgets['worldwide_gross'].str.replace('$', '').str.replace(',', '')\n",
    "\n",
    "# Convert the column to float\n",
    "gross_budgets['worldwide_gross'] = gross_budgets['worldwide_gross'].astype(float)\n",
    "\n",
    "# Clean the production_budget column\n",
    "gross_budgets['production_budget'] = gross_budgets['production_budget'].str.replace('$', '').str.replace(',', '')\n",
    "\n",
    "# Convert the column to float\n",
    "gross_budgets['production_budget'] = gross_budgets['production_budget'].astype(float)"
   ]
  },
  {
   "cell_type": "code",
   "execution_count": 6,
   "metadata": {},
   "outputs": [],
   "source": [
    "#Movie budget DF used as there is more data for the frequency analysis for profit- keep this\n",
    "\n",
    "# Clean the worldwide_gross column\n",
    "movie_budgets_df['worldwide_gross'] = movie_budgets_df['worldwide_gross'].str.replace('$', '').str.replace(',', '')\n",
    "\n",
    "# Convert the column to float\n",
    "movie_budgets_df['worldwide_gross'] = movie_budgets_df['worldwide_gross'].astype(float)\n",
    "\n",
    "# Clean the production_budget column\n",
    "movie_budgets_df['production_budget'] = movie_budgets_df['production_budget'].str.replace('$', '').str.replace(',', '')\n",
    "\n",
    "# Convert the column to float\n",
    "movie_budgets_df['production_budget'] = movie_budgets_df['production_budget'].astype(float)"
   ]
  },
  {
   "cell_type": "code",
   "execution_count": 7,
   "metadata": {},
   "outputs": [],
   "source": [
    "#create profit\n",
    "movie_budgets_df['profit'] = movie_budgets_df['worldwide_gross'] - movie_budgets_df['production_budget']\n",
    "#represented in millions\n",
    "movie_budgets_df['profit'] = movie_budgets_df['profit'] / 1000000"
   ]
  },
  {
   "cell_type": "code",
   "execution_count": 8,
   "metadata": {},
   "outputs": [],
   "source": [
    "#create profit\n",
    "gross_budgets['profit'] = gross_budgets['worldwide_gross'] - gross_budgets['production_budget']\n",
    "#represented in millions\n",
    "gross_budgets['profit'] = gross_budgets['profit'] / 1000000"
   ]
  },
  {
   "cell_type": "code",
   "execution_count": 9,
   "metadata": {},
   "outputs": [
    {
     "name": "stdout",
     "output_type": "stream",
     "text": [
      "count    5782.000000\n",
      "mean       59.899704\n",
      "std       146.088881\n",
      "min      -200.237650\n",
      "25%        -2.189071\n",
      "50%         8.550286\n",
      "75%        60.968502\n",
      "max      2351.345279\n",
      "Name: profit, dtype: float64\n"
     ]
    }
   ],
   "source": [
    "#stat info on profit\n",
    "#we use this over the dataframe in the hypothesis testing as it does not link to studio, however it has more budget data\n",
    "profit_stats = movie_budgets_df['profit'].describe()\n",
    "print(profit_stats)"
   ]
  },
  {
   "cell_type": "code",
   "execution_count": 10,
   "metadata": {},
   "outputs": [
    {
     "data": {
      "image/png": "[encoded data removed]",
      "text/plain": [
       "<Figure size 720x432 with 1 Axes>"
      ]
     },
     "metadata": {
      "needs_background": "light"
     },
     "output_type": "display_data"
    }
   ],
   "source": [
    "# Draw a histogram for profit\n",
    "plt.figure(figsize=(10, 6))\n",
    "sns.histplot(data=movie_budgets_df, x='profit', kde=True, bins = 50,\n",
    "             color='black')\n",
    "plt.xlabel('Profit')\n",
    "plt.ylabel('Frequency')\n",
    "plt.title('Distribution of Profit in Millions')\n",
    "plt.show()"
   ]
  },
  {
   "cell_type": "code",
   "execution_count": 11,
   "metadata": {},
   "outputs": [],
   "source": [
    "#Null Hypothesis: There is no relationship between A and B\n",
    "#profit has no relationship to any of the top 3 occuring studios\n",
    "\n",
    "#Alternative Hypothesis: The hypothesis traditionally thought of when creating a hypothesis for an experiment\n",
    "#profit has a relationship to all or some of the top 3 occuring studios"
   ]
  },
  {
   "cell_type": "code",
   "execution_count": 12,
   "metadata": {},
   "outputs": [],
   "source": [
    "import scipy.stats as stats\n",
    "import numpy as np"
   ]
  },
  {
   "cell_type": "code",
   "execution_count": 13,
   "metadata": {},
   "outputs": [
    {
     "data": {
      "text/plain": [
       "array(['BV', 'WB', 'P/DW', 'Sum.', 'Par.', 'Uni.', 'Fox', 'Sony', 'FoxS',\n",
       "       'SGem', 'WB (NL)', 'LGF', 'MBox', 'W/Dim.', 'Focus', 'MGM',\n",
       "       'Over.', 'Mira.', 'NM', 'CBS', 'SPC', 'ParV', 'Gold.', 'RAtt.',\n",
       "       'Magn.', 'IFC', 'Free', '3D', 'Wein.', 'Rela.', 'Anch.', 'App.',\n",
       "       'Drft.', 'IW', 'Relbig.', 'Viv.', 'Eros', 'Scre.', 'UTV', 'Kino',\n",
       "       'ATO', 'First', 'GK', 'NFC', 'Strand', 'Mont.', 'IVP', 'FD',\n",
       "       'TriS', 'ORF', 'Jan.', 'Osci.', 'OMNI/FSR', nan, 'SMod', 'WHE',\n",
       "       'P4', 'ALP', 'LG/S', 'RTWC', 'MNE', 'LD', 'Yash', 'IM', 'A24',\n",
       "       'PH', 'EOne', 'ELS', 'CE', 'Saban', 'DR', 'Trib.', 'KE', 'VE',\n",
       "       'EC', 'BG', 'PFR', 'BST', 'BH Tilt', 'BSC', 'FCW', 'Cohen', 'LGP',\n",
       "       'TFA', 'Alc', 'STX', 'Orch.', 'PNT', 'CJ', 'Cleopatra', 'BBC',\n",
       "       'GrtIndia', 'Neon', 'Affirm', 'ENTMP', 'Studio 8', 'Annapurna',\n",
       "       'Global Road', 'Amazon', 'RLJ'], dtype=object)"
      ]
     },
     "execution_count": 13,
     "metadata": {},
     "output_type": "execute_result"
    }
   ],
   "source": [
    "#check all the unique studios\n",
    "studio_list = gross_budgets['studio'].unique()\n",
    "studio_list"
   ]
  },
  {
   "cell_type": "code",
   "execution_count": 14,
   "metadata": {},
   "outputs": [
    {
     "name": "stdout",
     "output_type": "stream",
     "text": [
      "Uni.     117\n",
      "Fox      110\n",
      "WB       102\n",
      "Sony      74\n",
      "Par.      74\n",
      "        ... \n",
      "NFC        1\n",
      "IVP        1\n",
      "IW         1\n",
      "Scre.      1\n",
      "PH         1\n",
      "Name: studio, Length: 99, dtype: int64\n"
     ]
    }
   ],
   "source": [
    "#check to see the total count of each studio\n",
    "#low studio frequency will not be accurately represented with the data so we choose to analyze the top 3 occuring\n",
    "studio_counts = gross_budgets['studio'].value_counts()\n",
    "print(studio_counts)"
   ]
  },
  {
   "cell_type": "code",
   "execution_count": 15,
   "metadata": {},
   "outputs": [
    {
     "name": "stdout",
     "output_type": "stream",
     "text": [
      "Top 3 studio occurances in the dataset significance with profit:\n",
      "Uni.: 0.0\n",
      "Fox: 0.0\n",
      "WB: 0.0\n"
     ]
    }
   ],
   "source": [
    "#in this code we run a loop to check 3 different top occuring studios to see if they are significant to profit\n",
    "\n",
    "#place to store studios\n",
    "studio_counts = {}\n",
    "studio_list = gross_budgets['studio'].unique()\n",
    "\n",
    "for studio in studio_list:\n",
    "    #count studios\n",
    "    count = len(gross_budgets[gross_budgets['studio'] == studio])\n",
    "    studio_counts[studio] = count\n",
    "\n",
    "# Sort the dictionary by values (occurrence count) in descending order\n",
    "sorted_studios = sorted(studio_counts.items(), key=lambda x: x[1], reverse=True)\n",
    "\n",
    "print(\"Top 3 studio occurances in the dataset significance with profit:\")\n",
    "#grab the top 10\n",
    "for studio, count in sorted_studios[:3]:\n",
    "    #create var for pvalue with respect to studio and profit\n",
    "    studio_profit = gross_budgets[gross_budgets['studio'] == studio]['profit']\n",
    "    #pvalue test\n",
    "    t_statistic, p_value = stats.ttest_1samp(studio_profit, popmean=0)\n",
    "    # Check if p-value is not null\n",
    "    if not np.isnan(p_value): \n",
    "        #then print the results\n",
    "        print(f\"{studio}: {round(p_value, 2)}\")"
   ]
  },
  {
   "cell_type": "code",
   "execution_count": 16,
   "metadata": {},
   "outputs": [],
   "source": [
    "#based on this we reject the null and accept the alternative that any of the top 3 occuring studios will help with profit"
   ]
  },
  {
   "cell_type": "code",
   "execution_count": 31,
   "metadata": {},
   "outputs": [
    {
     "name": "stdout",
     "output_type": "stream",
     "text": [
      "The 95.0% confidence interval for movie budgets under 10 million represented in millions is: (-0.11, 13.39)\n"
     ]
    }
   ],
   "source": [
    "# Create a new dataframe with production budgets under 10 million\n",
    "production_budget_under_10m = movie_budgets_df[movie_budgets_df['production_budget'] < 10000000]\n",
    "\n",
    "confidence_level = 0.95\n",
    "sample_size = production_budget_under_10m.sample(30)\n",
    "\n",
    "mean_profit = np.mean(sample_size['profit'])\n",
    "std_dev = np.std(sample_size['profit'])\n",
    "std_error = stats.sem(sample_size['profit'])\n",
    "\n",
    "margin_of_error = std_error * stats.t.ppf((1 + confidence_level) / 2, 30 - 1)\n",
    "\n",
    "lower_bound_low10 = round(mean_profit - margin_of_error, 2)\n",
    "upper_bound_low10 = round(mean_profit + margin_of_error, 2)\n",
    "\n",
    "print(f\"The {confidence_level * 100}% confidence interval for movie budgets under 10 million represented in millions is: ({lower_bound_low10}, {upper_bound_low10})\")"
   ]
  },
  {
   "cell_type": "code",
   "execution_count": 32,
   "metadata": {},
   "outputs": [
    {
     "name": "stdout",
     "output_type": "stream",
     "text": [
      "The 95.0% confidence interval for movie budgets over or equal to 10 million represented in millions is: (-3.86, 44.38)\n"
     ]
    }
   ],
   "source": [
    "# Create a new dataframe with production budgets greater than or equal to 10 million\n",
    "production_budget_over_10m = movie_budgets_df[movie_budgets_df['production_budget'] >= 10000000]\n",
    "confidence_level = 0.95\n",
    "sample_size = production_budget_over_10m.sample(30)\n",
    "\n",
    "mean_profit = np.mean(sample_size['profit'])\n",
    "std_dev = np.std(sample_size['profit'])\n",
    "std_error = stats.sem(sample_size['profit'])\n",
    "\n",
    "margin_of_error = std_error * stats.t.ppf((1 + confidence_level) / 2, 30 - 1)\n",
    "\n",
    "lower_bound_up10 = round(mean_profit - margin_of_error, 2)\n",
    "upper_bound_up10 = round(mean_profit + margin_of_error, 2)\n",
    "\n",
    "print(f\"The {confidence_level * 100}% confidence interval for movie budgets over or equal to 10 million represented in millions is: ({lower_bound_up10}, {upper_bound_up10})\")"
   ]
  }
 ],
 "metadata": {
  "kernelspec": {
   "display_name": "Python (learn-env)",
   "language": "python",
   "name": "learn-env"
  },
  "language_info": {
   "codemirror_mode": {
    "name": "ipython",
    "version": 3
   },
   "file_extension": ".py",
   "mimetype": "text/x-python",
   "name": "python",
   "nbconvert_exporter": "python",
   "pygments_lexer": "ipython3",
   "version": "3.8.5"
  }
 },
 "nbformat": 4,
 "nbformat_minor": 4
}
