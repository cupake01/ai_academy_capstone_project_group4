{
 "cells": [
  {
   "cell_type": "markdown",
   "metadata": {},
   "source": [
    "# Ai Academy Capstone Group 4\n",
    "Presented by Brian Gorbea, Kelvin Cupay, Robert Cofer, Rob Masters, Ryan Lazar\n",
    "\n",
    "Created & Consolidated by Kelvin and Brian using notebooks of group members\n",
    "\n",
    "## Notebook Structure\n",
    "1. Overview\n",
    "2. Business Understanding\n",
    "* Include stakeholder and key business questions\n",
    "3. Data Understanding and Analysis\n",
    "* Source of data\n",
    "* Description of data\n",
    "* Three visualizations (the same visualizations presented in the slides and notebook)\n",
    "4. Statisical Communication & Data Analysis\n",
    "* Results of statistical inference\n",
    "* Interpretation of these results in the context of the problem\n",
    "* Hypothesis testing\n",
    "5. Conclusion\n",
    "* Summary of conclusions including three relevant findings\n",
    "* Future Works\n",
    "\n",
    "# Overview\n",
    "Using Explanatory data analysis(EDA) and statistical methods we are going to advice Computing Vision how the best way to jump start their new movie studio, called 'Computing Vision Entertainment'. We used sqlite3 in pandas to query the datasets given and hypothesis testing to evaluate our findings. Essentially, we are generating insights for their business and stake holders by making a two part suggestion, one is the early stage of the movie studio and scalability after several years."
   ]
  },
  {
   "cell_type": "markdown",
   "metadata": {},
   "source": [
    "# Business Understanding: \n",
    "\n",
    "Goals: The business question we are going to answer\n",
    "Assumption : The parent company 'Computing Vision' does not have much backgrounk in creating movies.\n",
    "1. Best investment in order to quick start the revenue of new movie studio 'Computing Vidion Entertainment'\n",
    "2. Best investment in order to scale the business and future ventures in the business industry\n",
    "\n",
    "This notebook will drive deeper into how we utilize the data sets to create meaningful visualizations and aggregrations in order to achieve our goals listed above.\n",
    "\n",
    "We will also create hypothesis test to evaluate our findings and reccomendations which are based in scietific & mathematical reasonings. The reccomendation for the *head of Computing Vision's new movie studio* and help him decide which films to create the best film in terms of profits and appreciation.\n",
    "\n",
    "## Real World Application:\n",
    "Today less people are going to the theatres and watching movies. Maybe Hollywood has gone stale and have stagnanted with their ways of creating movies, through our insights of what is most profitable for a new and small scale movie studio someone can use this information to create and start their new movie business. `Note:` that our client is a tech company, this may hinder start-ups.\n",
    "\n",
    "## Stakeholders:\n",
    "- `Investors`: Can identify by profits if rate on investment(ROI) is significant for them to invest in Computing Vision Entertainment\n",
    "- `Computing Vision(Parent Company)`: Is it worth it to make \n",
    "- `Critics`: Is this new movie studio just for profits or they actually want to create movies that are well liked\n",
    "- `Fans`: Do we like the movies from this mobie studio\n",
    "- `Potential future fans`: Repuation of this new in coming movie studio"
   ]
  },
  {
   "cell_type": "markdown",
   "metadata": {},
   "source": [
    "## Data Undertanding: \n",
    "#### Description of data:\n",
    "The data set comes from several sources where some are compressed into CSV(comma-separated values) or TSV(tab-separated values). The data sets listed below are from these respectable sources: [Box Office Mojo](https://www.boxofficemojo.com/), [IMDB](https://www.imdb.com/), [Rotten Tomatoes](https://www.rottentomatoes.com/), [The MovieDB](https://www.themoviedb.org/), [The Numbers](https://www.the-numbers.com/).\n",
    "\n",
    "Here is a list of the data sets use:\n",
    "- `bom.movie_gross.csv.gz`: \n",
    "- `im.db.zip`: \n",
    "- `rt.movie_info.tsv.gz`:\n",
    "- `rt.reviews.tsv.gz`:\n",
    "- `tmdb.movies.csv.gz`:\n",
    "- `tn.movie_budgets.csv.gz:`\n"
   ]
  },
  {
   "cell_type": "markdown",
   "metadata": {},
   "source": [
    "## Importing Libraries used"
   ]
  },
  {
   "cell_type": "code",
   "execution_count": 1,
   "metadata": {},
   "outputs": [],
   "source": [
    "# imports\n",
    "import pandas as pd\n",
    "import numpy as np\n",
    "import scipy as sp\n",
    "import pandas as pd\n",
    "import scipy.stats as stats\n",
    "import seaborn as sns\n",
    "import matplotlib.pyplot as plt\n",
    "import math\n",
    "import sqlite3\n",
    "import zipfile\n",
    "%matplotlib inline"
   ]
  },
  {
   "cell_type": "code",
   "execution_count": 2,
   "metadata": {},
   "outputs": [],
   "source": [
    "#add data / making dataframes\n",
    "movie_gross_df = pd.read_csv('data/bom.movie_gross.csv.gz')\n",
    "movie_info_df = pd.read_csv('data/rt.movie_info.tsv.gz', sep='\\t')\n",
    "reviews_df = pd.read_csv('data/rt.reviews.tsv.gz', delimiter='\\t', encoding='latin1')\n",
    "movies_df = pd.read_csv('data/tmdb.movies.csv.gz', encoding='latin1')\n",
    "movie_budgets_df = pd.read_csv('data/tn.movie_budgets.csv.gz', encoding='latin1') "
   ]
  },
  {
   "cell_type": "markdown",
   "metadata": {},
   "source": [
    "## Data Organizing, Data Merging, Data Formatting, Data Calculation\n",
    "\n",
    "Change the column \"title in the bom.movie dataframe. This will then allow us to merge both dataframes on that column.\n",
    "\n",
    "After the column name was changed we can now merge and begin our data exploration.\n",
    "\n",
    "Before we can work with the numbers in the columns we have to remove the $ and any spaces that may exist.\n",
    "\n",
    "Now we create a profit column in the dataframe and we calculate that by subtracting the \"production_budget\" column from the \"worldwide_gross\" column. It is a large number so we then divide by 1,000,000 to change it out of scientific notation."
   ]
  },
  {
   "cell_type": "code",
   "execution_count": 3,
   "metadata": {},
   "outputs": [],
   "source": [
    "# Rename the title column to movie for merge with the movie_budget dataframe\n",
    "movie_gross_df = movie_gross_df.rename(columns={'title': 'movie'})"
   ]
  },
  {
   "cell_type": "code",
   "execution_count": 4,
   "metadata": {},
   "outputs": [],
   "source": [
    "#connect moviegross and moviebudgets on movie\n",
    "gross_budgets = pd.merge(movie_gross_df, movie_budgets_df, on= 'movie')"
   ]
  },
  {
   "cell_type": "code",
   "execution_count": 5,
   "metadata": {},
   "outputs": [],
   "source": [
    "# Have to reformat the worldwide_gross and production_budget columns to remove $ and space\n",
    "gross_budgets['worldwide_gross'] = gross_budgets['worldwide_gross'].replace('[\\$,]', '', regex=True).astype(float)\n",
    "gross_budgets['production_budget'] = gross_budgets['production_budget'].replace('[\\$,]', '', regex=True).astype(float)"
   ]
  },
  {
   "cell_type": "code",
   "execution_count": 6,
   "metadata": {},
   "outputs": [],
   "source": [
    "# Create a profit column by subtracting production_budget from worldwide_gross\n",
    "gross_budgets['profit'] = (gross_budgets['worldwide_gross'] - gross_budgets['production_budget'])/1000000"
   ]
  },
  {
   "cell_type": "markdown",
   "metadata": {},
   "source": [
    "# First Visualization\n",
    "This graph shows the top 10 studios that have the highest profit on average. It was created by combing the two dataframes movie_gross_df and  movie_budgets_df, calculating profit, and then grouping by the studio. The values are the average profit (mean)."
   ]
  },
  {
   "cell_type": "code",
   "execution_count": 7,
   "metadata": {},
   "outputs": [
    {
     "data": {
      "text/plain": [
       "Text(0.5, 1.0, 'Top 10 Studios by Average Profit')"
      ]
     },
     "execution_count": 7,
     "metadata": {},
     "output_type": "execute_result"
    },
    {
     "data": {
      "image/png": "[encoded data removed]",
      "text/plain": [
       "<Figure size 720x432 with 1 Axes>"
      ]
     },
     "metadata": {
      "needs_background": "light"
     },
     "output_type": "display_data"
    }
   ],
   "source": [
    "# Plot top 10 - Cleaned up\n",
    "plt.figure(figsize=(10, 6))\n",
    "ax = sns.barplot(x='studio', y='profit', data=gross_budgets.groupby('studio')['profit'].mean().nlargest(10).reset_index(), color=\"#86BC24\")\n",
    "plt.ylabel('Profit in millions $')\n",
    "plt.xlabel('Studio')\n",
    "plt.title('Top 10 Studios by Average Profit')"
   ]
  },
  {
   "cell_type": "markdown",
   "metadata": {},
   "source": [
    "Ryan Lazar's Code"
   ]
  },
  {
   "cell_type": "markdown",
   "metadata": {},
   "source": [
    "Brian Gorbea's Code"
   ]
  },
  {
   "cell_type": "markdown",
   "metadata": {},
   "source": [
    "Importing and starting the sqlite"
   ]
  },
  {
   "cell_type": "code",
   "execution_count": 8,
   "metadata": {},
   "outputs": [],
   "source": [
    "# Path to the zip file\n",
    "zip_file_path = 'data/im.db.zip'\n",
    "# Folder to extract the zip file contents\n",
    "extract_folder = 'data'"
   ]
  },
  {
   "cell_type": "markdown",
   "metadata": {},
   "source": [
    "The process here is pulling the databse file, unzipping the file and extracting the file to a local location. The file is then opened and read using SQL commands within python. Python pulls the data and stores it in the a variable called a dataframe for later use."
   ]
  },
  {
   "cell_type": "code",
   "execution_count": 9,
   "metadata": {},
   "outputs": [],
   "source": [
    "# Open the zip file\n",
    "with zipfile.ZipFile(zip_file_path, 'r') as zip_ref:\n",
    "    # Extract the contents of the zip file to the extract_folder\n",
    "    zip_ref.extractall(extract_folder)"
   ]
  },
  {
   "cell_type": "code",
   "execution_count": 10,
   "metadata": {},
   "outputs": [],
   "source": [
    "db_file_path = f'{extract_folder}/im.db'\n",
    "conn = sqlite3.connect(db_file_path)\n",
    "cursor = conn.cursor()"
   ]
  },
  {
   "cell_type": "code",
   "execution_count": 11,
   "metadata": {},
   "outputs": [],
   "source": [
    "q = \"\"\"\n",
    "SELECT primary_title, genres\n",
    "FROM movie_basics\n",
    ";\"\"\"\n",
    "movie_genres = pd.read_sql_query(q, conn)"
   ]
  },
  {
   "cell_type": "markdown",
   "metadata": {},
   "source": [
    "## Start of data pulling and organization\n",
    "Below the data is being pulled from each file and being stored to a variable for use.\n",
    "\n",
    "The genre data in the database stored more than one genre per movie. The solution was to seperate the genres and pull the first genre that appears and mark that as the primary genre.\n",
    "\n"
   ]
  },
  {
   "cell_type": "markdown",
   "metadata": {},
   "source": [
    "These are using sql so df was restablished"
   ]
  },
  {
   "cell_type": "code",
   "execution_count": 12,
   "metadata": {},
   "outputs": [],
   "source": [
    "movie_genres['primary_genre'] = movie_genres['genres'].str.split(',').str.get(0)"
   ]
  },
  {
   "cell_type": "code",
   "execution_count": 13,
   "metadata": {},
   "outputs": [],
   "source": [
    "movie_genres = movie_genres.rename(columns={'primary_title': 'movie'})"
   ]
  },
  {
   "cell_type": "code",
   "execution_count": 14,
   "metadata": {},
   "outputs": [],
   "source": [
    "movie_budgets_df = pd.read_csv('data/tn.movie_budgets.csv.gz', encoding='latin1', index_col=0)"
   ]
  },
  {
   "cell_type": "code",
   "execution_count": 15,
   "metadata": {},
   "outputs": [],
   "source": [
    "movie_gross_df = pd.read_csv('data/bom.movie_gross.csv.gz')"
   ]
  },
  {
   "cell_type": "code",
   "execution_count": 16,
   "metadata": {},
   "outputs": [],
   "source": [
    "movie_gross_df = movie_gross_df.rename(columns={'title': 'movie'})"
   ]
  },
  {
   "cell_type": "code",
   "execution_count": 17,
   "metadata": {},
   "outputs": [],
   "source": [
    "Bugets_Gross_df = pd.merge(movie_gross_df, movie_budgets_df, on=['movie'])"
   ]
  },
  {
   "cell_type": "markdown",
   "metadata": {},
   "source": [
    "## Cleaning the gross and budget data\n",
    "The steps below looks at the columns for world wide gross and production budgets and turn them into readable values that python can use to do calculations. This way we can easily create the profit table to use for the vizualizations."
   ]
  },
  {
   "cell_type": "code",
   "execution_count": 18,
   "metadata": {},
   "outputs": [],
   "source": [
    "# Clean the worldwide_gross column\n",
    "Bugets_Gross_df['worldwide_gross'] = Bugets_Gross_df['worldwide_gross'].str.replace('$', '').str.replace(',', '')"
   ]
  },
  {
   "cell_type": "code",
   "execution_count": 19,
   "metadata": {},
   "outputs": [],
   "source": [
    "# Convert the column to float\n",
    "Bugets_Gross_df['worldwide_gross'] = Bugets_Gross_df['worldwide_gross'].astype(float)"
   ]
  },
  {
   "cell_type": "code",
   "execution_count": 20,
   "metadata": {},
   "outputs": [],
   "source": [
    "# Clean the production_budget column\n",
    "Bugets_Gross_df['production_budget'] = Bugets_Gross_df['production_budget'].str.replace('$', '').str.replace(',', '')\n",
    "\n",
    "# Convert the column to float\n",
    "Bugets_Gross_df['production_budget'] = Bugets_Gross_df['production_budget'].astype(float)"
   ]
  },
  {
   "cell_type": "code",
   "execution_count": 21,
   "metadata": {},
   "outputs": [],
   "source": [
    "# Calculate the profit column\n",
    "Bugets_Gross_df['profit'] = Bugets_Gross_df['worldwide_gross'] - Bugets_Gross_df['production_budget']"
   ]
  },
  {
   "cell_type": "markdown",
   "metadata": {},
   "source": [
    "## Sorting data \n",
    "The data is being sorted by most profitable to least profitable. One it has been sorted the data grabs the top 10 results from the list. The top ten list is then used for vizualiation later for top ten profitable movies."
   ]
  },
  {
   "cell_type": "code",
   "execution_count": 22,
   "metadata": {},
   "outputs": [],
   "source": [
    "profit_sorted= Bugets_Gross_df.sort_values(by='profit', ascending=False)\n",
    "topTen = profit_sorted.head(10)"
   ]
  },
  {
   "cell_type": "code",
   "execution_count": 23,
   "metadata": {},
   "outputs": [],
   "source": [
    "\n",
    "topTen_rev = topTen.iloc[::-1].reset_index(drop=True)\n",
    "topTen_rev['profit'] = topTen_rev['profit']/1000000"
   ]
  },
  {
   "cell_type": "markdown",
   "metadata": {},
   "source": [
    "## This is the end of the major data collection\n",
    "The base data has been sorted."
   ]
  },
  {
   "cell_type": "code",
   "execution_count": 24,
   "metadata": {},
   "outputs": [],
   "source": [
    "# takes in values and reformats values (handles negative values)\n",
    "def format_values(value):\n",
    "    if value >= 1000000000: # Billions\n",
    "        return f\"{value / 1000000000:.1f}B\"\n",
    "    elif value >= 1000000: # Millions\n",
    "        return f\"{value / 1000000:.1f}M\"\n",
    "    elif value < 0 and abs(value) >= 1000000: # Negative Millions\n",
    "        return f\"{value / 1000000:.1f}M\"\n",
    "    elif value >= 1000: # Thoudsands\n",
    "            return f\"{value / 1000:.1f}K\"\n",
    "    else:\n",
    "        return str(value)"
   ]
  },
  {
   "cell_type": "code",
   "execution_count": 25,
   "metadata": {},
   "outputs": [],
   "source": [
    "# takes in values and reformats values \n",
    "# these are used in the bargraphs\n",
    "# handles x values\n",
    "def format_values_x(value):\n",
    "    if value >= 1000000000: # Billions\n",
    "        return f\"{value / 1000000000:.1f}\"\n",
    "    elif value >= 1000000: # Millions\n",
    "        return f\"{value / 1000000:.1f}\"\n",
    "    elif value <0 and abs(value) >= 1000000: # Negative Millions\n",
    "        return f\"{value / 1000000:.1f}\"\n",
    "    else:\n",
    "        return str(value)"
   ]
  },
  {
   "cell_type": "code",
   "execution_count": 26,
   "metadata": {},
   "outputs": [],
   "source": [
    "# sorting profit from profitable to least profitable(descending order)\n",
    "profit_sorted= gross_budgets.sort_values(by='profit', ascending=False)"
   ]
  },
  {
   "cell_type": "markdown",
   "metadata": {},
   "source": [
    "## Creating Data\n",
    "Data is being merged and calculated to represent the average based on the primary genre of a movie."
   ]
  },
  {
   "cell_type": "code",
   "execution_count": 27,
   "metadata": {},
   "outputs": [],
   "source": [
    "# merging movies genres and profit sorted on movie\n",
    "profgenre = pd.merge(movie_genres, profit_sorted, on=['movie'])"
   ]
  },
  {
   "cell_type": "code",
   "execution_count": 28,
   "metadata": {},
   "outputs": [],
   "source": [
    "# grouping by primary genre and getting mean then sorting by profit\n",
    "profgenre_grouped = profgenre.groupby('primary_genre').mean()['profit'].sort_values()"
   ]
  },
  {
   "cell_type": "markdown",
   "metadata": {},
   "source": [
    "# Second Visualization - Top Ten Profitable Genres with a budget Under 10M\n",
    "\n",
    "The vizualization is used to get the genre with a budget under 10m. This data can represent which genres don't do well and what to potentially avoid.\n"
   ]
  },
  {
   "cell_type": "code",
   "execution_count": 29,
   "metadata": {},
   "outputs": [],
   "source": [
    "# merge budget gross and movie genres on movie\n",
    "budget_UTen = pd.merge(Bugets_Gross_df,movie_genres, on = 'movie')"
   ]
  },
  {
   "cell_type": "markdown",
   "metadata": {},
   "source": [
    "The data is merged on movie names then sorted to only include production budgets under 10m. Once the data has been sorted the mean value for the primary genre is calculated and is sorted based on the total profit. What this produces is a dataframe with two columns. The first column is the name of the genre and the second column is the averaged profit that genre made in the past 50 years while also maintaing a budget under 10m."
   ]
  },
  {
   "cell_type": "code",
   "execution_count": 30,
   "metadata": {},
   "outputs": [],
   "source": [
    "# selecting production budget under 10 mill\n",
    "budget_UTen = budget_UTen[budget_UTen['production_budget']< 10000000]"
   ]
  },
  {
   "cell_type": "code",
   "execution_count": 31,
   "metadata": {},
   "outputs": [],
   "source": [
    "# grouping by primary genre then getting mean  then sorting by profit\n",
    "budget_UTen_mean =budget_UTen.groupby('primary_genre').mean()['profit'].sort_values()"
   ]
  },
  {
   "cell_type": "code",
   "execution_count": 32,
   "metadata": {},
   "outputs": [
    {
     "data": {
      "image/png": "[encoded data removed]",
      "text/plain": [
       "<Figure size 720x432 with 1 Axes>"
      ]
     },
     "metadata": {
      "needs_background": "light"
     },
     "output_type": "display_data"
    }
   ],
   "source": [
    "#Plotting\n",
    "fig, ax = plt.subplots(figsize=(10,6))\n",
    "budget_UTen_mean.plot(kind='barh',color='#86BC24', ax=ax)\n",
    "\n",
    "#Title and labels\n",
    "ax.set_title('Top Ten Profitable Genres with a Budget Under 10M', fontweight='bold', fontsize=15)\n",
    "ax.set_xticks(ax.get_xticks())\n",
    "ax.set_xticklabels([format_values_x(x) for x in ax.get_xticks()])\n",
    "ax.set_xlabel('Profit ($ Millions)', fontsize=13)\n",
    "ax.set_ylabel('Genre', fontsize=13)\n",
    "ax.grid(axis='x', linestyle='--', alpha = 0.07)\n",
    "ax.set_xlim(1, ax.get_xlim()[1])\n",
    "\n",
    "#for index, value in enumerate(budget_UTen_mean):\n",
    "#    formatted_value = \"${:.1f}\".format(value)\n",
    "#    ax.text(value , index, ' ' + str(formatted_value), va='center', fontweight = 'bold', fontsize =11)\n",
    "for index, value in enumerate(budget_UTen_mean):\n",
    "    ax.text(value + (0.04 * max(budget_UTen_mean)), index,format_values(value), va = 'center', color = 'black', fontweight='bold')\n",
    "\n",
    "\n",
    "plt.tight_layout\n",
    "plt.show()"
   ]
  },
  {
   "cell_type": "markdown",
   "metadata": {},
   "source": [
    "# Third Visualization - Top Average Profits by Genre\n",
    "The vizualization is used to get the average profit based on genre. This data can represent which genres don't do well and what to potentially avoid. Such as making a Western movie may not produce results."
   ]
  },
  {
   "cell_type": "code",
   "execution_count": 33,
   "metadata": {},
   "outputs": [
    {
     "data": {
      "image/png": "[encoded data removed]",
      "text/plain": [
       "<Figure size 720x432 with 1 Axes>"
      ]
     },
     "metadata": {
      "needs_background": "light"
     },
     "output_type": "display_data"
    }
   ],
   "source": [
    "#Plotting\n",
    "fig, ax = plt.subplots(figsize=(10,6))\n",
    "profgenre_grouped.plot(kind='barh', color=\"#86BC24\", ax=ax)\n",
    "\n",
    "#Title and labels\n",
    "ax.set_title('Average Profits by Genre', fontweight='bold', fontsize=15)\n",
    "ax.set_xticks(ax.get_xticks())\n",
    "ax.set_xticklabels([format_values_x(x) for x in ax.get_xticks()])\n",
    "ax.set_xlabel('Profit ($ Millions)', fontsize=13)\n",
    "ax.set_ylabel('Genre', fontsize=13)\n",
    "ax.grid(axis='x', linestyle='--', alpha = 0.07)\n",
    "ax.set_xlim(1, ax.get_xlim()[1])\n",
    "\n",
    "\n",
    "for index, value in enumerate(profgenre_grouped):\n",
    "    formatted_value = \"${:.1f}M\".format(value)\n",
    "    ax.text(value, index, ' ' + str(formatted_value), va='center', fontweight = 'bold', fontsize =11)\n",
    "\n",
    "plt.tight_layout\n",
    "plt.show()"
   ]
  },
  {
   "cell_type": "markdown",
   "metadata": {},
   "source": [
    "Brian Gorbea Code"
   ]
  },
  {
   "cell_type": "markdown",
   "metadata": {},
   "source": [
    "# Statisical Communication & Data Analysis"
   ]
  },
  {
   "cell_type": "markdown",
   "metadata": {},
   "source": [
    "Rob Master's Code"
   ]
  },
  {
   "cell_type": "code",
   "execution_count": 34,
   "metadata": {},
   "outputs": [],
   "source": [
    "#rename dfs to connect on the unique ID movie\n",
    "movies_df = movies_df.rename(columns={'original_title': 'movie'})\n",
    "movie_gross_df = movie_gross_df.rename(columns={'title': 'movie'})"
   ]
  },
  {
   "cell_type": "code",
   "execution_count": 35,
   "metadata": {},
   "outputs": [],
   "source": [
    "#connect moviegross and moviebudgets on movie\n",
    "gross_budgets = pd.merge(movie_gross_df, movie_budgets_df, on=['movie'])"
   ]
  },
  {
   "cell_type": "markdown",
   "metadata": {},
   "source": [
    "Below we clean out the new dataframe gross budgets to modify the worldwide_gross and production budget values to ensure we can calculate profit. This starts by removing '$' and ',' from the cells and then converting the data into float."
   ]
  },
  {
   "cell_type": "code",
   "execution_count": 36,
   "metadata": {},
   "outputs": [],
   "source": [
    "#cleaned for profit and hypothesis testing\n",
    "\n",
    "# Clean the worldwide_gross column\n",
    "gross_budgets['worldwide_gross'] = gross_budgets['worldwide_gross'].str.replace('$', '').str.replace(',', '')\n",
    "\n",
    "# Convert the column to float\n",
    "gross_budgets['worldwide_gross'] = gross_budgets['worldwide_gross'].astype(float)\n",
    "\n",
    "# Clean the production_budget column\n",
    "gross_budgets['production_budget'] = gross_budgets['production_budget'].str.replace('$', '').str.replace(',', '')\n",
    "\n",
    "# Convert the column to float\n",
    "gross_budgets['production_budget'] = gross_budgets['production_budget'].astype(float)"
   ]
  },
  {
   "cell_type": "markdown",
   "metadata": {},
   "source": [
    "Here we do the same thing, except this is just for the frequency analysis. Since we dont need studio information, it is better that we use just the movie_budgets_df dataframe as we get better quality data in regards to profits as there isn't data lost from the merge."
   ]
  },
  {
   "cell_type": "code",
   "execution_count": 37,
   "metadata": {},
   "outputs": [],
   "source": [
    "#Movie budget DF used as there is more data for the frequency analysis for profit- keep this\n",
    "\n",
    "# Clean the worldwide_gross column\n",
    "movie_budgets_df['worldwide_gross'] = movie_budgets_df['worldwide_gross'].str.replace('$', '').str.replace(',', '')\n",
    "\n",
    "# Convert the column to float\n",
    "movie_budgets_df['worldwide_gross'] = movie_budgets_df['worldwide_gross'].astype(float)\n",
    "\n",
    "# Clean the production_budget column\n",
    "movie_budgets_df['production_budget'] = movie_budgets_df['production_budget'].str.replace('$', '').str.replace(',', '')\n",
    "\n",
    "# Convert the column to float\n",
    "movie_budgets_df['production_budget'] = movie_budgets_df['production_budget'].astype(float)"
   ]
  },
  {
   "cell_type": "markdown",
   "metadata": {},
   "source": [
    "Here we calculate profits and change the vaules of profit and production budget to be represented in the millions. This is just for the movie budget dataframe."
   ]
  },
  {
   "cell_type": "code",
   "execution_count": 38,
   "metadata": {},
   "outputs": [],
   "source": [
    "#create profit\n",
    "movie_budgets_df['profit'] = movie_budgets_df['worldwide_gross'] - movie_budgets_df['production_budget']\n",
    "#represented in millions\n",
    "movie_budgets_df['profit'] = movie_budgets_df['profit'] / 1000000"
   ]
  },
  {
   "cell_type": "code",
   "execution_count": 39,
   "metadata": {},
   "outputs": [],
   "source": [
    "#create profit\n",
    "gross_budgets['profit'] = gross_budgets['worldwide_gross'] - gross_budgets['production_budget']\n",
    "#represented in millions\n",
    "gross_budgets['profit'] = gross_budgets['profit'] / 1000000"
   ]
  },
  {
   "cell_type": "markdown",
   "metadata": {},
   "source": [
    "## Analysis on profit\n",
    "Here we do a general analysis about profits. We use this dataframe because it has better data quality."
   ]
  },
  {
   "cell_type": "code",
   "execution_count": 40,
   "metadata": {},
   "outputs": [
    {
     "name": "stdout",
     "output_type": "stream",
     "text": [
      "count    5782.000000\n",
      "mean       59.899704\n",
      "std       146.088881\n",
      "min      -200.237650\n",
      "25%        -2.189071\n",
      "50%         8.550286\n",
      "75%        60.968502\n",
      "max      2351.345279\n",
      "Name: profit, dtype: float64\n"
     ]
    }
   ],
   "source": [
    "#stat info on profit\n",
    "profit_stats = movie_budgets_df['profit'].describe()\n",
    "print(profit_stats)"
   ]
  },
  {
   "cell_type": "markdown",
   "metadata": {},
   "source": [
    "## Creating histogram for profit\n",
    "Below we create a histogram for profit. This provides us with a general anaysis of where profit lines up for all films, generally showing us the types of returns we can expect."
   ]
  },
  {
   "cell_type": "code",
   "execution_count": 41,
   "metadata": {},
   "outputs": [
    {
     "data": {
      "image/png": "[encoded data removed]",
      "text/plain": [
       "<Figure size 720x432 with 1 Axes>"
      ]
     },
     "metadata": {
      "needs_background": "light"
     },
     "output_type": "display_data"
    }
   ],
   "source": [
    "# Draw a histogram for profit\n",
    "plt.figure(figsize=(10, 6))\n",
    "sns.histplot(data=movie_budgets_df, x='profit', kde=True, bins = 50,\n",
    "             color='black')\n",
    "plt.xlabel('Profit')\n",
    "plt.ylabel('Frequency')\n",
    "plt.title('Distribution of Profit in Millions')\n",
    "plt.show()"
   ]
  },
  {
   "cell_type": "markdown",
   "metadata": {},
   "source": [
    "## Null Hypothesis:\n",
    "Typically there is no relationship between A and B. In our case, profit has no relationship to any of the top 3 occuring studios.\n",
    "\n",
    "## Alternative Hypothesis:\n",
    "The alternative hypothesis is traditionally thought of when creating a hypothesis for an experiment. In our case, profit has a relationship to all or some of the top 3 occuring studios."
   ]
  },
  {
   "cell_type": "markdown",
   "metadata": {},
   "source": [
    "## General anaylsis for developing hypothesis testing\n",
    "Here we check for all unique studios in order to get an idea of all the potential studios to emulate."
   ]
  },
  {
   "cell_type": "code",
   "execution_count": 42,
   "metadata": {},
   "outputs": [
    {
     "data": {
      "text/plain": [
       "array(['BV', 'WB', 'P/DW', 'Sum.', 'Par.', 'Uni.', 'Fox', 'Sony', 'FoxS',\n",
       "       'SGem', 'WB (NL)', 'LGF', 'MBox', 'W/Dim.', 'Focus', 'MGM',\n",
       "       'Over.', 'Mira.', 'NM', 'CBS', 'SPC', 'ParV', 'Gold.', 'RAtt.',\n",
       "       'Magn.', 'IFC', 'Free', '3D', 'Wein.', 'Rela.', 'Anch.', 'App.',\n",
       "       'Drft.', 'IW', 'Relbig.', 'Viv.', 'Eros', 'Scre.', 'UTV', 'Kino',\n",
       "       'ATO', 'First', 'GK', 'NFC', 'Strand', 'Mont.', 'IVP', 'FD',\n",
       "       'TriS', 'ORF', 'Jan.', 'Osci.', 'OMNI/FSR', nan, 'SMod', 'WHE',\n",
       "       'P4', 'ALP', 'LG/S', 'RTWC', 'MNE', 'LD', 'Yash', 'IM', 'A24',\n",
       "       'PH', 'EOne', 'ELS', 'CE', 'Saban', 'DR', 'Trib.', 'KE', 'VE',\n",
       "       'EC', 'BG', 'PFR', 'BST', 'BH Tilt', 'BSC', 'FCW', 'Cohen', 'LGP',\n",
       "       'TFA', 'Alc', 'STX', 'Orch.', 'PNT', 'CJ', 'Cleopatra', 'BBC',\n",
       "       'GrtIndia', 'Neon', 'Affirm', 'ENTMP', 'Studio 8', 'Annapurna',\n",
       "       'Global Road', 'Amazon', 'RLJ'], dtype=object)"
      ]
     },
     "execution_count": 42,
     "metadata": {},
     "output_type": "execute_result"
    }
   ],
   "source": [
    "#check all the unique studios\n",
    "studio_list = gross_budgets['studio'].unique()\n",
    "studio_list"
   ]
  },
  {
   "cell_type": "markdown",
   "metadata": {},
   "source": [
    "Here we check to see the total count of each studio. We are focusing on high studio frequency in the dataset to get an accurate pvalue test, as studios like Trib or FCW will not provide us with accurate results"
   ]
  },
  {
   "cell_type": "code",
   "execution_count": 43,
   "metadata": {},
   "outputs": [
    {
     "name": "stdout",
     "output_type": "stream",
     "text": [
      "Uni.         117\n",
      "Fox          110\n",
      "WB           102\n",
      "Sony          74\n",
      "Par.          74\n",
      "            ... \n",
      "BSC            1\n",
      "KE             1\n",
      "Cleopatra      1\n",
      "BBC            1\n",
      "Saban          1\n",
      "Name: studio, Length: 99, dtype: int64\n"
     ]
    }
   ],
   "source": [
    "#check to see the total count of each studio\n",
    "#low studio frequency will not be accurately represented with the data so we choose to analyze the top 3 occuring\n",
    "studio_counts = gross_budgets['studio'].value_counts()\n",
    "print(studio_counts)"
   ]
  },
  {
   "cell_type": "markdown",
   "metadata": {},
   "source": [
    "## Hypothesis testing\n",
    "In this code we run a loop to check 3 different top occuring studios independently to see if they are significant to profit. We create a place to store the studios, and then create the loop which counts studios, sorts them by an occurrence count in decending order and then grabs the top 3 to do a p-value test independently of each other for studio and profit. One other condition we check for is if there is a null value for studio and drop it from the results.\n"
   ]
  },
  {
   "cell_type": "code",
   "execution_count": 44,
   "metadata": {},
   "outputs": [
    {
     "name": "stdout",
     "output_type": "stream",
     "text": [
      "Top 3 studio occurances in the dataset significance with profit:\n",
      "Uni.: 3.688020261558896e-10\n",
      "Fox: 9.610055205557015e-17\n",
      "WB: 4.328957530102738e-10\n"
     ]
    }
   ],
   "source": [
    "#in this code we run a loop to check 3 different top occuring studios\n",
    "# to see if they are significant to profit\n",
    "\n",
    "#place to store studios\n",
    "studio_counts = {}\n",
    "studio_list = gross_budgets['studio'].unique()\n",
    "\n",
    "for studio in studio_list:\n",
    "    #count studios\n",
    "    count = len(gross_budgets[gross_budgets['studio'] == studio])\n",
    "    studio_counts[studio] = count\n",
    "\n",
    "# Sort the dictionary by values (occurrence count) in descending order\n",
    "sorted_studios = sorted(studio_counts.items(), key=lambda x: x[1], reverse=True)\n",
    "\n",
    "print(\"Top 3 studio occurances in the dataset significance with profit:\")\n",
    "#grab the top 10\n",
    "for studio, count in sorted_studios[:3]:\n",
    "    #create var for pvalue with respect to studio and profit\n",
    "    studio_profit = gross_budgets[gross_budgets['studio'] == studio]['profit']\n",
    "    #pvalue test\n",
    "    t_statistic, p_value = stats.ttest_1samp(studio_profit, popmean=0)\n",
    "    # Check if p-value is not null\n",
    "    if not np.isnan(p_value): \n",
    "        #then print the results\n",
    "        print(f\"{studio}: {p_value}\")"
   ]
  },
  {
   "cell_type": "markdown",
   "metadata": {},
   "source": [
    "## Rejecting the null hypothesis: \n",
    "Based on the results of each of the three studios being significant at the 95% threshold, we reject the null and accept the alternative that any of the top 3 occuring studios will help with profit\n"
   ]
  },
  {
   "cell_type": "markdown",
   "metadata": {},
   "source": [
    "## Confidence Intervals\n",
    "Here in the code below we check the confidence interval for profit for films with a production budget under 10 million dollars."
   ]
  },
  {
   "cell_type": "code",
   "execution_count": 45,
   "metadata": {},
   "outputs": [
    {
     "name": "stdout",
     "output_type": "stream",
     "text": [
      "The 95.0% confidence interval for movie budgets under 10 million represented in millions is: (15.59, 26.02)\n"
     ]
    }
   ],
   "source": [
    "# Create a new dataframe with production budgets under 10 million\n",
    "production_budget_under_10m = gross_budgets[gross_budgets['production_budget'] < 10000000]\n",
    "\n",
    "confidence_level = 0.95\n",
    "sample_size = len(production_budget_under_10m['profit'])\n",
    "\n",
    "mean_profit = np.mean(production_budget_under_10m['profit'])\n",
    "std_dev = np.std(production_budget_under_10m['profit'])\n",
    "std_error = stats.sem(production_budget_under_10m['profit'])\n",
    "\n",
    "margin_of_error = std_error * stats.t.ppf((1 + confidence_level) / 2, sample_size - 1)\n",
    "\n",
    "lower_bound_low10 = round(mean_profit - margin_of_error, 2)\n",
    "upper_bound_low10 = round(mean_profit + margin_of_error, 2)\n",
    "\n",
    "print(f\"The {confidence_level * 100}% confidence interval for movie budgets under 10 million represented in millions is: ({lower_bound_low10}, {upper_bound_low10})\")"
   ]
  },
  {
   "cell_type": "markdown",
   "metadata": {},
   "source": [
    "We do the same thing as above but for films with a production budget over 10 million dollars."
   ]
  },
  {
   "cell_type": "code",
   "execution_count": 46,
   "metadata": {},
   "outputs": [
    {
     "name": "stdout",
     "output_type": "stream",
     "text": [
      "The 95.0% confidence interval for movie budgets under 10 million represented in millions is: (115.68, 142.52)\n"
     ]
    }
   ],
   "source": [
    "# Create a new dataframe with production budgets greater than or equal to 10 million\n",
    "production_budget_over_10m = gross_budgets[gross_budgets['production_budget'] >= 10000000]\n",
    "confidence_level = 0.95\n",
    "sample_size = len(production_budget_over_10m['profit'])\n",
    "\n",
    "mean_profit = np.mean(production_budget_over_10m['profit'])\n",
    "std_dev = np.std(production_budget_over_10m['profit'])\n",
    "std_error = stats.sem(production_budget_over_10m['profit'])\n",
    "\n",
    "margin_of_error = std_error * stats.t.ppf((1 + confidence_level) / 2, sample_size - 1)\n",
    "\n",
    "lower_bound_up10 = round(mean_profit - margin_of_error, 2)\n",
    "upper_bound_up10 = round(mean_profit + margin_of_error, 2)\n",
    "\n",
    "print(f\"The {confidence_level * 100}% confidence interval for movie budgets under 10 million represented in millions is: ({lower_bound_up10}, {upper_bound_up10})\")"
   ]
  },
  {
   "cell_type": "markdown",
   "metadata": {},
   "source": [
    "Rob Master's Code"
   ]
  },
  {
   "cell_type": "markdown",
   "metadata": {},
   "source": [
    "# Conclusion"
   ]
  },
  {
   "cell_type": "markdown",
   "metadata": {},
   "source": [
    "## Business Recommendations\n",
    "\n",
    "When we started to work and explored data we thought it was Computing Vision's best interest to have a `2 phase` recommendation. The first one being the short term phase(0-5 years) which consist of limiting capital expenditure to under 10 million dollars. As we gain familiarity of the movie industry (5-10 years in the future) and grow our entertainment portfolio, we can expand into higher grossing films such as creating movies over 10 million dollar production budget.\n",
    "\n",
    "We chose 10 million as a threshold number since we strongly believe that this is feasible capital expenditure for a tech company like Computing Vision. We also saw that 10 million is 25th percentile above and below 50th in production budget which makes it safe and retains market viability."
   ]
  },
  {
   "cell_type": "markdown",
   "metadata": {},
   "source": [
    "This provides us the general statistical analysis in order to justify a 10 million dollar production budget limit for a new movie studio. This would put us above the bottom quarter but keep our movies viable with the broader film market."
   ]
  },
  {
   "cell_type": "code",
   "execution_count": 47,
   "metadata": {},
   "outputs": [
    {
     "name": "stdout",
     "output_type": "stream",
     "text": [
      "count    5.782000e+03\n",
      "mean     3.158776e+07\n",
      "std      4.181208e+07\n",
      "min      1.100000e+03\n",
      "25%      5.000000e+06\n",
      "50%      1.700000e+07\n",
      "75%      4.000000e+07\n",
      "max      4.250000e+08\n",
      "Name: production_budget, dtype: float64\n"
     ]
    }
   ],
   "source": [
    "budget_stats = movie_budgets_df['production_budget'].describe()\n",
    "print(budget_stats)"
   ]
  },
  {
   "cell_type": "markdown",
   "metadata": {},
   "source": [
    "## 1. Short Term Reccommendation\n"
   ]
  },
  {
   "cell_type": "markdown",
   "metadata": {},
   "source": [
    "Make `horror movies` with a `10 million budget or less` in the short-term. The `genre itself has the highest profits on average` for a budget under 10 million and also consists of 9 out of the top 10 most profitable low budget films."
   ]
  },
  {
   "cell_type": "markdown",
   "metadata": {},
   "source": [
    "## 2. Growth Phase\n",
    "Branch into `Sci-Fi`, `Adventure`, and `Animation Films` once you are established. While these are the top profiting genres we do `caution` about high production budgets.\n"
   ]
  },
  {
   "cell_type": "markdown",
   "metadata": {},
   "source": [
    "## 3. Emulating A Studio\n",
    "Since we have found that they can influence profits, Emulating the right studio is a key to jumpstarting a movie studio based on our findings.\n",
    "The top 3 we recommend are `Pixar`, `BV (Buena Vista International)`, `GrtIndia`"
   ]
  },
  {
   "cell_type": "markdown",
   "metadata": {},
   "source": [
    "## Future Works"
   ]
  },
  {
   "cell_type": "markdown",
   "metadata": {},
   "source": [
    "The scope of the task allowed only Exploratory Data Analysis(EDA) and Hypothesis Testing. We hope in the future we can use Regression and Machine Learning Algorithms to improve and validate our findings. Here are some of the example of what we would like to do in the future.\n",
    "\n",
    "1. Look into other variables that have effects on profit (Director, Revenue, Ratings)\n",
    "2. Regression testing to determine data relationships\n",
    "3. Predictive modeling with machine learning\n",
    "4. Perform thorough risk analysis for upcoming projects\n",
    "5. Risk evaluation on genres"
   ]
  },
  {
   "cell_type": "markdown",
   "metadata": {},
   "source": [
    "# End of Note book: Thank you so much for reading to this point!"
   ]
  },
  {
   "cell_type": "code",
   "execution_count": null,
   "metadata": {},
   "outputs": [],
   "source": []
  }
 ],
 "metadata": {
  "kernelspec": {
   "display_name": "Python (learn-env)",
   "language": "python",
   "name": "learn-env"
  },
  "language_info": {
   "codemirror_mode": {
    "name": "ipython",
    "version": 3
   },
   "file_extension": ".py",
   "mimetype": "text/x-python",
   "name": "python",
   "nbconvert_exporter": "python",
   "pygments_lexer": "ipython3",
   "version": "3.8.5"
  }
 },
 "nbformat": 4,
 "nbformat_minor": 4
}
