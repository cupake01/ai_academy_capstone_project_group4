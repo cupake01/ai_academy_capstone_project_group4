{
 "cells": [
  {
   "cell_type": "markdown",
   "metadata": {},
   "source": [
    "# Ai Academy Capstone Group 4\n",
    "Presented by Brian Gorbea, Kelvin Cupay, Robert Cofer, Rob Masters, Ryan Lazar\n",
    "\n",
    "## Overview\n",
    "Using Explanatory data analysis(EDA) and statistical methods we are going to advice Computing Vision how the best way to jump start their new movie studio, called \"Computing Vision Entertainment\". We used sqlite3 in pandas to query the datasets given and hypothesis testing to evaluate our findings. Essentially, we are generating insights for their business and stake holders by making a two part suggestion, one is the early stage of the movie studio and scalability after several years.\n",
    "\n"
   ]
  },
  {
   "cell_type": "markdown",
   "metadata": {},
   "source": [
    "## Data Undertanding: \n",
    "The data set comes from several sources where some are compressed into CSV(comma-separated values) or TSV(tab-separated values).\n",
    "Here is a list of the data sets use:\n",
    "- \n",
    "\n",
    "Methodology:\n",
    "\n",
    "Results:"
   ]
  },
  {
   "cell_type": "markdown",
   "metadata": {},
   "source": [
    "## Business problem: \n",
    "\n",
    "    * goals,\n",
    "    * data,\n",
    "    * Method,\n",
    "    * Results,\n",
    "* Business understanding"
   ]
  },
  {
   "cell_type": "code",
   "execution_count": null,
   "metadata": {},
   "outputs": [],
   "source": []
  },
  {
   "cell_type": "markdown",
   "metadata": {},
   "source": [
    "# Overview\n",
    "* Use Exploratory data analysis(EDA) & Statisticasl methods to generate insihts for business stake holder\n",
    "\n",
    "# Business Problem\n",
    "Computing vision. sees all the big companies creating original video content and they want oget in on the fun.\n",
    "They have decided to create a new movie studio(Top Quality Entertainment).\n",
    "* Task: exploring what types of films are current doing the best at the box office using different samples of available data(we are looking at profitability) : $defined$ $as$ global gross revenue() - budget(cost).\n",
    "$create profit$\n",
    " gross_budgets['profit'] = gross_budgets['worldwide_gross'](revenue made international) - gross_budgets['production_budget'](cost)\n",
    "* Translate those finnds into actionale insigghts\n",
    "* Head of computing vision's new movie studio can use to help decide what #type of films to create#."
   ]
  },
  {
   "cell_type": "code",
   "execution_count": null,
   "metadata": {},
   "outputs": [],
   "source": [
    "# Head of computing vision's new movie studio can use to help decide what #type of films to create#.\n",
    "# want to pursue\n",
    "# want to avoid\n"
   ]
  },
  {
   "cell_type": "code",
   "execution_count": 7,
   "metadata": {},
   "outputs": [],
   "source": [
    "# 2 dependent variables : profit & ( smaller: popularity)\n"
   ]
  },
  {
   "cell_type": "code",
   "execution_count": 4,
   "metadata": {},
   "outputs": [],
   "source": [
    "# Story Arc\n",
    "# new business how to start(for now these smaller budget) ( initial films)\n",
    "# how to scale top grossing movies\n"
   ]
  },
  {
   "cell_type": "markdown",
   "metadata": {},
   "source": [
    "# Stakeholders\n",
    "* the investor\n",
    "* the company itself\n",
    "* critics\n",
    "* fans\n",
    "* potential future fans\n",
    "* competing fans\n",
    "* "
   ]
  },
  {
   "cell_type": "markdown",
   "metadata": {},
   "source": [
    "# problem / challenge\n",
    "* a new business that need to make movies to make money and received well"
   ]
  },
  {
   "cell_type": "markdown",
   "metadata": {},
   "source": []
  },
  {
   "cell_type": "code",
   "execution_count": null,
   "metadata": {},
   "outputs": [],
   "source": []
  },
  {
   "cell_type": "markdown",
   "metadata": {},
   "source": [
    "## Who will be receiving your presentation, and what is their role in the company?\n",
    "* stake holders and investors of new movie Film Studio(top quality)"
   ]
  },
  {
   "cell_type": "markdown",
   "metadata": {},
   "source": [
    "## What is their background: technical or non-technical?\n",
    "non-technical, but they are sharks of Hollywood"
   ]
  },
  {
   "cell_type": "markdown",
   "metadata": {},
   "source": [
    "## How will your presentation affect their work or a decision they need to make?\n",
    "* Weather they will invest in the new company"
   ]
  },
  {
   "cell_type": "markdown",
   "metadata": {},
   "source": [
    "## What is their attention span?\n",
    "They have good attention span and good atttention to detail\n"
   ]
  },
  {
   "cell_type": "markdown",
   "metadata": {},
   "source": [
    "## What is the goal of the presentation?\n",
    "The goal of this presentation is for them to invest into Top Quality Entertainment"
   ]
  },
  {
   "cell_type": "code",
   "execution_count": null,
   "metadata": {},
   "outputs": [],
   "source": []
  },
  {
   "cell_type": "markdown",
   "metadata": {},
   "source": [
    "# Middle : Methodology\n",
    "* Data Understanding\n",
    "    \n",
    "* Data Analysis\n",
    "    * 3 visualizations\n",
    "* Statistical Inference\n",
    "\n",
    "* Rationale\n",
    "    * For example, why are you using hypothesis testing rather than just a graph?\n",
    "    * What about the problem or data is suitable for this form of analysis?\n",
    "    * For a data science audience, this includes your reasoning for the changes you applied and choices you made while building confidence intervals and/or hypothesis tests.\n",
    " "
   ]
  },
  {
   "cell_type": "code",
   "execution_count": null,
   "metadata": {},
   "outputs": [],
   "source": []
  },
  {
   "cell_type": "markdown",
   "metadata": {},
   "source": [
    "# End\n",
    "* Recommendations\n",
    "    * 3 reccs\n",
    "* Next Steps\n",
    "* Thank You\n",
    "* This slide should include a prompt for questions as well as your contact information (name and LinkedIn profile)"
   ]
  },
  {
   "cell_type": "markdown",
   "metadata": {},
   "source": [
    "# Grading\n",
    "* Attention to Detail (20%)\n",
    "* Data Communication (20%)\n",
    "* Authoring Jupyter Notebooks (20%)\n",
    "* Data Manipulation and Analysis with pandas (20%)\n",
    "* Statistical Communication (20%)"
   ]
  },
  {
   "cell_type": "code",
   "execution_count": null,
   "metadata": {},
   "outputs": [],
   "source": []
  }
 ],
 "metadata": {
  "kernelspec": {
   "display_name": "Python (learn-env)",
   "language": "python",
   "name": "learn-env"
  },
  "language_info": {
   "codemirror_mode": {
    "name": "ipython",
    "version": 3
   },
   "file_extension": ".py",
   "mimetype": "text/x-python",
   "name": "python",
   "nbconvert_exporter": "python",
   "pygments_lexer": "ipython3",
   "version": "3.8.5"
  }
 },
 "nbformat": 4,
 "nbformat_minor": 4
}
